{
 "cells": [
  {
   "cell_type": "markdown",
   "metadata": {},
   "source": [
    "## Introduction\n",
    "This notebook demonstrates how to scale the CIFAR-10 image classification task using multiple FPGAs.\n",
    "In the first step, we define the experiment configurations and create a config file."
   ]
  },
  {
   "cell_type": "markdown",
   "metadata": {},
   "source": [
    "### Define experiment parameters:\n",
    "\n",
    "BATCH_SIZES => A list of different batch sizes (number of images) we would like to run this experiment for.\n",
    "\n",
    "PLATFORM => One of the two supported platforms by the driver (alveo/zynq-iodma)\n",
    "\n",
    "XCLBIN_PATH_DEFAULT => Default path for the .xclbin file if one not provided via command line args\n",
    "\n",
    "DEVICE_NAME_DEFAULT => Default name for the FPGA device if one not provided via command line args"
   ]
  },
  {
   "cell_type": "code",
   "execution_count": 1,
   "metadata": {},
   "outputs": [],
   "source": [
    "BATCH_SIZES = [20000] #,5000,10000,50000,100000]\n",
    "# BATCH_SIZES = [1900000]\n",
    "PLATFORM = \"alveo\"\n",
    "XCLBIN_PATH_SINGLE = \"bitstreams/a_u280.xclbin\"\n",
    "XCLBIN_PATH_DOUBLE = \"bitstreams/a_u280_2cu.xclbin\"\n",
    "XCLBIN_PATH_QUAD = \"bitstreams/a_u280_4cu.xclbin\"\n",
    "XCLBIN_PATH_OCTO = \"bitstreams/a_u280_8cu.xclbin\"\n",
    "XCLBIN_PATH_DECA = \"bitstreams/a_u280_10cu.xclbin\"\n",
    "\n",
    "DEVICE_NAME_DEFAULT = \"xilinx_u280_xdma_201920_3\"\n",
    "XRT_ENV_PATH = \"/opt/xilinx/xrt/setup.sh\"\n",
    "SPAWN_PATH = \"/mnt/scratch/ldierick/octoray/cnv_w1a1_u280\"\n",
    "\n",
    "SPAWN_PATH = \"/home/ldierick/octoray/cnv_w1a1_u280\""
   ]
  },
  {
   "cell_type": "code",
   "execution_count": 3,
   "metadata": {},
   "outputs": [
    {
     "ename": "FileNotFoundError",
     "evalue": "[Errno 2] No such file or directory: '/mnt/scratch/ldierick/octoray/cnv_w1a1_u280/cluster_config.json'",
     "output_type": "error",
     "traceback": [
      "\u001b[0;31m---------------------------------------------------------------------------\u001b[0m",
      "\u001b[0;31mFileNotFoundError\u001b[0m                         Traceback (most recent call last)",
      "\u001b[0;32m/tmp/ipykernel_1047/3809562830.py\u001b[0m in \u001b[0;36m<module>\u001b[0;34m\u001b[0m\n\u001b[1;32m     13\u001b[0m     \u001b[0mjson\u001b[0m\u001b[0;34m.\u001b[0m\u001b[0mdump\u001b[0m\u001b[0;34m(\u001b[0m\u001b[0mcluster_config\u001b[0m\u001b[0;34m,\u001b[0m\u001b[0mf\u001b[0m\u001b[0;34m)\u001b[0m\u001b[0;34m\u001b[0m\u001b[0;34m\u001b[0m\u001b[0m\n\u001b[1;32m     14\u001b[0m \u001b[0;34m\u001b[0m\u001b[0m\n\u001b[0;32m---> 15\u001b[0;31m \u001b[0;32mwith\u001b[0m \u001b[0mopen\u001b[0m\u001b[0;34m(\u001b[0m\u001b[0;34m\"/mnt/scratch/ldierick/octoray/cnv_w1a1_u280/cluster_config.json\"\u001b[0m\u001b[0;34m,\u001b[0m\u001b[0;34m\"w\"\u001b[0m\u001b[0;34m)\u001b[0m \u001b[0;32mas\u001b[0m \u001b[0mf\u001b[0m\u001b[0;34m:\u001b[0m\u001b[0;34m\u001b[0m\u001b[0;34m\u001b[0m\u001b[0m\n\u001b[0m\u001b[1;32m     16\u001b[0m     \u001b[0mjson\u001b[0m\u001b[0;34m.\u001b[0m\u001b[0mdump\u001b[0m\u001b[0;34m(\u001b[0m\u001b[0mcluster_config\u001b[0m\u001b[0;34m,\u001b[0m\u001b[0mf\u001b[0m\u001b[0;34m)\u001b[0m\u001b[0;34m\u001b[0m\u001b[0;34m\u001b[0m\u001b[0m\n",
      "\u001b[0;31mFileNotFoundError\u001b[0m: [Errno 2] No such file or directory: '/mnt/scratch/ldierick/octoray/cnv_w1a1_u280/cluster_config.json'"
     ]
    }
   ],
   "source": [
    "import json\n",
    "cluster_config = {\n",
    "    \"scheduler\":\"10.1.212.126\",\n",
    "    \"hosts\":[\"10.1.212.126\",\"10.1.212.127\"], \n",
    "    \"connect_options\":{\"port\":22,\"xrt\":XRT_ENV_PATH,\"dir\":SPAWN_PATH},\n",
    "    \"worker_options\":[{\"nthreads\":1,\"n_workers\":1,\"preload\":\"pynqimport.py\",\"nanny\":\"0\",\"memory_limit\":0},{\"nthreads\":1,\"n_workers\":2,\"preload\":\"pynqimport.py\",\"nanny\":\"0\",\"memory_limit\":0}],\n",
    "    \"scheduler_options\":{\"port\":8786},\n",
    "    \"worker_class\":\"distributed.Worker\",\n",
    "    \"overlay\": [XCLBIN_PATH_SINGLE,XCLBIN_PATH_DOUBLE]\n",
    "}\n",
    "\n",
    "with open(\"cluster_config.json\",\"w\") as f:\n",
    "    json.dump(cluster_config,f)\n",
    "\n"
   ]
  },
  {
   "cell_type": "markdown",
   "metadata": {},
   "source": [
    "### Download dataset\n",
    "Download a numpy-array formatted CIFAR-10 dataset to the current directory:"
   ]
  },
  {
   "cell_type": "code",
   "execution_count": 3,
   "metadata": {},
   "outputs": [
    {
     "name": "stdout",
     "output_type": "stream",
     "text": [
      "--2022-05-05 14:45:02--  https://raw.githubusercontent.com/modestyachts/CIFAR-10.1/master/datasets/cifar10.1_v4_data.npy\n",
      "Resolving proxy.ethz.ch (proxy.ethz.ch)... 129.132.202.155\n",
      "Connecting to proxy.ethz.ch (proxy.ethz.ch)|129.132.202.155|:3128... connected.\n",
      "Proxy request sent, awaiting response... 200 OK\n",
      "Length: 6208640 (5.9M) [application/octet-stream]\n",
      "Saving to: ‘cifar10.1_v4_data.npy.3’\n",
      "\n",
      "cifar10.1_v4_data.n 100%[===================>]   5.92M  30.6MB/s    in 0.2s    \n",
      "\n",
      "2022-05-05 14:45:02 (30.6 MB/s) - ‘cifar10.1_v4_data.npy.3’ saved [6208640/6208640]\n",
      "\n"
     ]
    }
   ],
   "source": [
    "!wget https://raw.githubusercontent.com/modestyachts/CIFAR-10.1/master/datasets/cifar10.1_v4_data.npy"
   ]
  },
  {
   "cell_type": "markdown",
   "metadata": {
    "tags": []
   },
   "source": [
    "### Define the worker method\n",
    "\n",
    "Here, we define the Python method which will be executed on each of the Dask workers. This function calls the driver using the data partition it receives, and returns the output data (along with some performance statistics) to the caller (the Dask client)\n"
   ]
  },
  {
   "cell_type": "code",
   "execution_count": 3,
   "metadata": {},
   "outputs": [],
   "source": [
    "def run_on_worker(ibuf_normal, kernel, index):\n",
    "    import numpy as np\n",
    "    import time\n",
    "    from driver import FINNAccelDriver\n",
    "    from pynq.ps import Clocks\n",
    "    import os\n",
    "    \n",
    "    t0_total = time.time()\n",
    "\n",
    "    batch_size = len(ibuf_normal) \n",
    "    device_name = kernel[\"device\"]\n",
    "    xclbin_path = kernel[\"path_to_bitstream\"]\n",
    "\n",
    "    \n",
    "    finnDriver = FINNAccelDriver(batch_size, xclbin_path, platform=PLATFORM, device_name=device_name, kernel=kernel)\n",
    "    ibuf_folded = finnDriver.fold_input(ibuf_normal)\n",
    "    ibuf_packed = ibuf_folded\n",
    "    finnDriver.copy_input_data_to_device(ibuf_packed)\n",
    "    \n",
    "    t0 = time.time()\n",
    "    finnDriver.execute()\n",
    "    t1 = time.time()\n",
    "    \n",
    "    obuf_packed = np.empty_like(finnDriver.obuf_packed_device)\n",
    "    finnDriver.copy_output_data_from_device(obuf_packed)\n",
    "    obuf_folded = finnDriver.unpack_output(obuf_packed)\n",
    "    obuf_normal = finnDriver.unfold_output(obuf_folded)\n",
    "\n",
    "    if PLATFORM != \"alveo\":\n",
    "        fclk_mhz = Clocks.fclk0_mhz\n",
    "    else:\n",
    "        fclk_mhz = finnDriver.fclk_mhz\n",
    "    runtime = t1-t0\n",
    "    \n",
    "    t1_total = time.time()\n",
    "\n",
    "\n",
    "    return {\n",
    "        'data': obuf_normal,\n",
    "        'runtime': runtime,\n",
    "        'index': index,\n",
    "        'fclk_mhz': fclk_mhz,\n",
    "        'throughput': batch_size/runtime,\n",
    "        'bandwidth_in': np.prod(finnDriver.ishape_packed)*0.000001 / runtime,\n",
    "        'bandwidth_out': np.prod(finnDriver.oshape_packed)*0.000001 / runtime,\n",
    "        'N': batch_size\n",
    "\n",
    "    }\n",
    "\n"
   ]
  },
  {
   "cell_type": "markdown",
   "metadata": {},
   "source": [
    "### Run the experiment\n",
    "Now we can run the classification.\n",
    "\n",
    "1. Partition the dataset into as many parts as the number of workers\n",
    "2. Send each part to a separate worker (using the *scatter* function from Dask)\n",
    "3. Submit the *run_on_worker* defined above to the scheduler, which will run it on all the workers.\n",
    "4. Collect and merge the results"
   ]
  },
  {
   "cell_type": "code",
   "execution_count": null,
   "metadata": {},
   "outputs": [],
   "source": [
    "from dask.distributed import Client\n",
    "\n",
    "client = Client(\"tcp://10.1.212.126:8786\")\n",
    "client.run_on_scheduler(lambda dask_scheduler=None: \n",
    "    dask_scheduler.close() & sys.exit(0))"
   ]
  },
  {
   "cell_type": "code",
   "execution_count": null,
   "metadata": {},
   "outputs": [],
   "source": [
    "await octoray.fshutdown()"
   ]
  },
  {
   "cell_type": "code",
   "execution_count": 7,
   "metadata": {},
   "outputs": [
    {
     "name": "stdout",
     "output_type": "stream",
     "text": [
      "Initializing OctoRay with client ip: 10.1.212.126\n",
      "Waiting until workers are set up on remote machines...\n",
      "Current amount of workers: 3\n"
     ]
    }
   ],
   "source": [
    "import time\n",
    "import numpy as np\n",
    "import json\n",
    "from Octoray import Octoray\n",
    "\n",
    "# Initialiaze octoray with automatic cluster deployment\n",
    "octoray = Octoray(ssh_cluster=False, cluster_config=cluster_config)\n",
    "\n",
    "# # set up the cluster\n",
    "octoray.create_cluster()"
   ]
  },
  {
   "cell_type": "code",
   "execution_count": 8,
   "metadata": {},
   "outputs": [
    {
     "name": "stdout",
     "output_type": "stream",
     "text": [
      "(404200, 32, 32, 3)\n",
      "TOTAL EXECUTION TIME: 2.654118776321411\n",
      "Maximum FPGA runtime[s]: 2.1991751194000244\n",
      "Average throughput per node[images/s]: 3037.2072633406333\n",
      "Total throughput[image/s]: 9094.318966948102\n",
      "[2.186051368713379, 2.1991751194000244, 2.1991641521453857]\n",
      "Average DRAM_in_bandwidth[Mb/s]: 9.330300712982424\n",
      "Average DRAM_out_bandwidth[Mb/s]: 0.0030372072633406337\n",
      "**************************\n",
      "total time for all batches: 2.6548211574554443\n"
     ]
    }
   ],
   "source": [
    "import time\n",
    "import numpy as np\n",
    "import json\n",
    "\n",
    "\n",
    "# load dataset\n",
    "full_cifar = np.load('cifar10.1_v4_data.npy')\n",
    "\n",
    "\n",
    "#print(full_cifar.shape)\n",
    "full_cifar = np.tile(full_cifar,[200,1,1,1])\n",
    "print(full_cifar.shape)\n",
    "\n",
    "\n",
    "execution_times = []\n",
    "end_to_end_times = []\n",
    "\n",
    "T = time.time()\n",
    "\n",
    "\n",
    "for BATCH_SIZE in BATCH_SIZES:\n",
    "    \n",
    "    t0 = time.time()\n",
    "    cnn_kernels = []\n",
    "    \n",
    "    # Both hosts execute a kernel with a single instance of the hardware design\n",
    "    # for i in range(len(cluster_config[\"hosts\"])):\n",
    "    \n",
    "    cnn_kernels.append(octoray.create_kernel(XCLBIN_PATH_SINGLE,1,int(BATCH_SIZE/octoray.num_of_workers),[[{\"idma0\":[\"DDR0\"]},{\"odma0\":[\"DDR0\"]}]],host=\"10.1.212.126\", device=DEVICE_NAME_DEFAULT))\n",
    "\n",
    "    cnn_kernels.append(octoray.create_kernel(XCLBIN_PATH_DOUBLE,2,int(BATCH_SIZE/(octoray.num_of_workers)), [[{\"idma0\":[\"HBM0\"]},{\"odma0\":[\"HBM0\"]}],[{\"idma1\":[\"HBM1\"]},{\"odma1\":[\"HBM1\"]}]],host=\"10.1.212.127\", device=DEVICE_NAME_DEFAULT))\n",
    "      \n",
    "\n",
    "    # Set up the host's worker options based on the amount of instances in the kernel associated to it\n",
    "    octoray.setup_worker_options()\n",
    "    \n",
    "    # In the case of multiple instances, subdivide the kernels over the number of instances\n",
    "    kernels_split = octoray.split_kernels(cnn_kernels)\n",
    "    \n",
    "    # Divide the data set over the kernels based on batch size per instance\n",
    "    data_split = octoray.split_data(full_cifar[:BATCH_SIZE],kernels_split)\n",
    "    \n",
    "    # Launch the tasks after scattering the data and kernels to the correct workers\n",
    "    results = octoray.execute_hybrid(run_on_worker,data_split,kernels_split)\n",
    "\n",
    "    # Reorder the response based on the original input order\n",
    "    results.sort(key = lambda result: result['index'])  \n",
    "\n",
    "    # Concatenate the result where each is an ndarray of the shape (BATCH_SIZE/num_of_workers, 1)\n",
    "    merged_result = np.concatenate([r['data'] for r in results]) # FINAL RESULTS (CLASS LABELS)\n",
    "\n",
    "    t1 = time.time()\n",
    "    max_fpga_runtime = max([r['runtime'] for r in results])\n",
    "    def avg(li):\n",
    "        return sum(li)/len(li)\n",
    "\n",
    "   \n",
    "    print(\"TOTAL EXECUTION TIME:\", t1-t0)\n",
    "    print(\"Maximum FPGA runtime[s]:\", max_fpga_runtime) # Shown in the plot\n",
    "    print(\"Average throughput per node[images/s]:\", avg([r['throughput'] for r in results]))\n",
    "    print(\"Total throughput[image/s]:\", BATCH_SIZE/ np.max([r['runtime'] for r in results]))\n",
    "    print([r[\"runtime\"] for r in results])\n",
    "    print(\"Average DRAM_in_bandwidth[Mb/s]:\", avg([r['bandwidth_in'] for r in results])) \n",
    "    print(\"Average DRAM_out_bandwidth[Mb/s]:\", avg([r['bandwidth_out'] for r in results]))    \n",
    "    print(\"**************************\")   \n",
    "    execution_times.append(max_fpga_runtime)\n",
    "    end_to_end_times.append(t1-t0)\n",
    "\n",
    "    \n",
    "print(f\"total time for all batches: {time.time()-T}\")\n",
    "\n"
   ]
  },
  {
   "cell_type": "code",
   "execution_count": null,
   "metadata": {},
   "outputs": [],
   "source": [
    "await octoray.fshutdown()"
   ]
  },
  {
   "cell_type": "markdown",
   "metadata": {},
   "source": [
    "### Generate a performance plot\n",
    "Plot the execution times for different batch sizes. Here, we plot the maximum FPGA execution times from all the workers. This time includes the data buffering time to/from the FPGA and the actual inference time. To plot the total end-to-end time instead, replace the *execution_times* variable below with the *end_to_end_times* variable."
   ]
  },
  {
   "cell_type": "code",
   "execution_count": null,
   "metadata": {},
   "outputs": [],
   "source": []
  },
  {
   "cell_type": "code",
   "execution_count": 48,
   "metadata": {},
   "outputs": [
    {
     "data": {
      "text/plain": [
       "<Figure size 3600x3600 with 0 Axes>"
      ]
     },
     "metadata": {},
     "output_type": "display_data"
    },
    {
     "data": {
      "image/png": "[encoded data removed]",
      "text/plain": [
       "<Figure size 432x288 with 1 Axes>"
      ]
     },
     "metadata": {
      "needs_background": "light"
     },
     "output_type": "display_data"
    }
   ],
   "source": [
    "import numpy as np\n",
    "import matplotlib.pyplot as plt\n",
    "f = plt.figure(figsize=(50,50))\n",
    "x = BATCH_SIZES[:3]\n",
    "f = plt.figure()\n",
    "\n",
    "y2 = execution_times\n",
    "plt.plot(x, y2, label = \"1 FPGAs\", marker='x')\n",
    "\n",
    "plt.xlabel('Batch size (no. of images)')\n",
    "plt.ylabel('Time taken to classify (in s)')\n",
    "plt.title('FINN CNV + Cifar-10 performance demo')\n",
    "\n",
    "plt.legend()\n",
    "plt.grid()\n",
    "\n",
    "f.savefig(\"cnv-1-vs-2.png\", bbox_inches='tight', dpi=150)"
   ]
  },
  {
   "cell_type": "markdown",
   "metadata": {},
   "source": [
    "### Measure scaling benefits\n",
    "To measure the benefits of scaling, run this notebook again after creating or destroying one or more Dask workers. Then compare the plots above to see the speedup."
   ]
  }
 ],
 "metadata": {
  "kernelspec": {
   "display_name": "Python 3",
   "language": "python",
   "name": "python3"
  },
  "language_info": {
   "codemirror_mode": {
    "name": "ipython",
    "version": 3
   },
   "file_extension": ".py",
   "mimetype": "text/x-python",
   "name": "python",
   "nbconvert_exporter": "python",
   "pygments_lexer": "ipython3",
   "version": "3.7.4"
  }
 },
 "nbformat": 4,
 "nbformat_minor": 4
}
