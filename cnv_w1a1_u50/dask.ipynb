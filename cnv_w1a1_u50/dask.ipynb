{
 "cells": [
  {
   "cell_type": "code",
   "execution_count": 18,
   "metadata": {},
   "outputs": [],
   "source": [
    "from driver import FINNAccelDriver\n",
    "import numpy as np\n",
    "from pynq.ps import Clocks\n",
    "import time"
   ]
  },
  {
   "cell_type": "code",
   "execution_count": 19,
   "metadata": {},
   "outputs": [],
   "source": [
    "#constants\n",
    "BATCH_SIZE = 200\n",
    "XCLBIN_PATH = \"a.xclbin\"\n",
    "PLATFORM = \"alveo\"\n",
    "INPUT_FILE_PATH = \"input.npy\""
   ]
  },
  {
   "cell_type": "code",
   "execution_count": 20,
   "metadata": {},
   "outputs": [
    {
     "name": "stdout",
     "output_type": "stream",
     "text": [
      "--2020-10-27 22:19:55--  https://raw.githubusercontent.com/modestyachts/CIFAR-10.1/master/datasets/cifar10.1_v4_data.npy\n",
      "Resolving raw.githubusercontent.com (raw.githubusercontent.com)... 151.101.36.133\n",
      "Connecting to raw.githubusercontent.com (raw.githubusercontent.com)|151.101.36.133|:443... connected.\n",
      "HTTP request sent, awaiting response... 200 OK\n",
      "Length: 6208640 (5.9M) [application/octet-stream]\n",
      "Saving to: ‘cifar10.1_v4_data.npy.4’\n",
      "\n",
      "100%[======================================>] 6,208,640   --.-K/s   in 0.1s    \n",
      "\n",
      "2020-10-27 22:19:55 (52.1 MB/s) - ‘cifar10.1_v4_data.npy.4’ saved [6208640/6208640]\n",
      "\n",
      "(200, 32, 32, 3)\n"
     ]
    }
   ],
   "source": [
    "#Download the CIFAR 10 dataset \n",
    "!wget https://raw.githubusercontent.com/modestyachts/CIFAR-10.1/master/datasets/cifar10.1_v4_data.npy\n",
    "full_cifar = np.load('cifar10.1_v4_data.npy')\n",
    "partial_cifar = full_cifar[:BATCH_SIZE]\n",
    "np.save(INPUT_FILE_PATH, partial_cifar)\n",
    "print(partial_cifar.shape)"
   ]
  },
  {
   "cell_type": "code",
   "execution_count": 21,
   "metadata": {},
   "outputs": [],
   "source": [
    "finnDriver = FINNAccelDriver(BATCH_SIZE, XCLBIN_PATH, PLATFORM)\n",
    "\n",
    "ibuf_normal = np.load(INPUT_FILE_PATH)\n",
    "ibuf_folded = finnDriver.fold_input(ibuf_normal)\n",
    "ibuf_packed = finnDriver.pack_input(ibuf_folded)\n",
    "finnDriver.copy_input_data_to_device(ibuf_packed)"
   ]
  },
  {
   "cell_type": "code",
   "execution_count": 22,
   "metadata": {},
   "outputs": [
    {
     "name": "stdout",
     "output_type": "stream",
     "text": [
      "(200, 1)\n"
     ]
    }
   ],
   "source": [
    "start = time.time()\n",
    "finnDriver.execute()\n",
    "obuf_packed = np.empty_like(finnDriver.obuf_packed_device)\n",
    "finnDriver.copy_output_data_from_device(obuf_packed)\n",
    "obuf_folded = finnDriver.unpack_output(obuf_packed)\n",
    "obuf_normal = finnDriver.unfold_output(obuf_folded)\n",
    "end = time.time()\n",
    "print(obuf_normal.shape)"
   ]
  },
  {
   "cell_type": "code",
   "execution_count": 23,
   "metadata": {},
   "outputs": [
    {
     "data": {
      "text/plain": [
       "{'runtime[ms]': 70.63817977905273,\n",
       " 'throughput[images/s]': 2831.3300346296382,\n",
       " 'DRAM_in_bandwidth[Mb/s]': 8.697845866382249,\n",
       " 'DRAM_out_bandwidth[Mb/s]': 0.002831330034629638,\n",
       " 'fclk[mhz]': 100.0,\n",
       " 'N': 200}"
      ]
     },
     "execution_count": 23,
     "metadata": {},
     "output_type": "execute_result"
    }
   ],
   "source": [
    "runtime = end - start\n",
    "res = {}\n",
    "res[\"runtime[ms]\"] = runtime*1000\n",
    "res[\"throughput[images/s]\"] = BATCH_SIZE / runtime\n",
    "res[\"DRAM_in_bandwidth[Mb/s]\"] = np.prod(finnDriver.ishape_packed)*0.000001 / runtime\n",
    "res[\"DRAM_out_bandwidth[Mb/s]\"] = np.prod(finnDriver.oshape_packed)*0.000001 / runtime\n",
    "if PLATFORM != \"alveo\":\n",
    "    res[\"fclk[mhz]\"] = Clocks.fclk0_mhz\n",
    "else:\n",
    "    res[\"fclk[mhz]\"] = finnDriver.fclk_mhz\n",
    "res[\"N\"] = BATCH_SIZE\n",
    "res"
   ]
  },
  {
   "cell_type": "code",
   "execution_count": null,
   "metadata": {},
   "outputs": [],
   "source": []
  }
 ],
 "metadata": {
  "kernelspec": {
   "display_name": "Python 3",
   "language": "python",
   "name": "python3"
  },
  "language_info": {
   "codemirror_mode": {
    "name": "ipython",
    "version": 3
   },
   "file_extension": ".py",
   "mimetype": "text/x-python",
   "name": "python",
   "nbconvert_exporter": "python",
   "pygments_lexer": "ipython3",
   "version": "3.8.3"
  }
 },
 "nbformat": 4,
 "nbformat_minor": 4
}
