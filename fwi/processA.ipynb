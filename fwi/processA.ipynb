{
 "cells": [
  {
   "cell_type": "code",
   "execution_count": 4,
   "metadata": {},
   "outputs": [
    {
     "name": "stdout",
     "output_type": "stream",
     "text": [
      "Overlay downloaded.\n"
     ]
    }
   ],
   "source": [
    "from pynq import Device, Overlay\n",
    "ol = Overlay(\"bitstreams/u280_xclbin/500_250_HBM/FullW.xclbin\",download=True,device=Device.devices[0])\n",
    "print(\"Overlay downloaded.\")\n"
   ]
  },
  {
   "cell_type": "code",
   "execution_count": 2,
   "metadata": {},
   "outputs": [
    {
     "data": {
      "text/plain": [
       "<pynq.overlay.Overlay at 0x7fcd00894750>"
      ]
     },
     "execution_count": 2,
     "metadata": {},
     "output_type": "execute_result"
    }
   ],
   "source": [
    "ol"
   ]
  },
  {
   "cell_type": "code",
   "execution_count": 5,
   "metadata": {},
   "outputs": [
    {
     "data": {
      "text/plain": [
       "<pynq.overlay.Overlay at 0x7fccd8f15850>"
      ]
     },
     "execution_count": 5,
     "metadata": {},
     "output_type": "execute_result"
    }
   ],
   "source": [
    "ol"
   ]
  },
  {
   "cell_type": "code",
   "execution_count": 15,
   "metadata": {},
   "outputs": [
    {
     "data": {
      "text/plain": [
       "'2022/4/29 15:28:20 +284494'"
      ]
     },
     "execution_count": 15,
     "metadata": {},
     "output_type": "execute_result"
    }
   ],
   "source": [
    "ol.timestamp"
   ]
  },
  {
   "cell_type": "code",
   "execution_count": 6,
   "metadata": {},
   "outputs": [],
   "source": [
    "from pynq import allocate \n",
    "import numpy as np\n",
    "\n",
    "A = allocate(shape=(500,250), dtype=np.complex64, target=getattr(ol,\"HBM0\"))"
   ]
  },
  {
   "cell_type": "code",
   "execution_count": 14,
   "metadata": {},
   "outputs": [
    {
     "name": "stdout",
     "output_type": "stream",
     "text": [
      "start dotprod_0\n",
      "end dotprod_0\n",
      "start update_0\n",
      "end update_0\n"
     ]
    }
   ],
   "source": [
    "cu = 0\n",
    "resolution = 500\n",
    "gridsize = 250\n",
    "ROW=500\n",
    "COL=250\n",
    "\n",
    "def init_hw_dotProduct(s_in_V,s2_in_V):       \n",
    "    COL = 250\n",
    "    ROW = 500\n",
    "    for col in range(COL):\n",
    "        s2_in_V[col] = col * 1.0\n",
    "        for row in range(ROW):\n",
    "            s_in_V[row][col] = complex(row*1.0,row*col*0.33)\n",
    "            \n",
    "    return s_in_V, s2_in_V\n",
    "\n",
    "def init_hw_updateDirection(resV_V,kappa_V):       \n",
    "    for row in range(ROW):\n",
    "        resV_V[row] = complex(row*1.0,row*0.33)\n",
    "        for col in range(COL):\n",
    "            kappa_V[row][col] = complex(row*1.0,row*col*0.33)\n",
    "    return resV_V, kappa_V\n",
    "\n",
    "dotprod = ol.dotprod_1\n",
    "update = ol.update_1\n",
    "\n",
    "B = allocate(shape=(gridsize,), dtype=np.float32, target=getattr(ol,\"HBM1\"))\n",
    "C = allocate(shape=(resolution,), dtype=np.complex64, target=getattr(ol,\"HBM2\"))\n",
    "\n",
    "D = allocate(shape=(resolution,gridsize), dtype=np.complex64,  target=getattr(ol,\"HBM6\"))\n",
    "E = allocate(shape=(resolution,),dtype=np.complex64,  target=getattr(ol,\"HBM7\"))\n",
    "F = allocate(shape=(gridsize), dtype=np.complex64, target=getattr(ol,\"HBM8\"))\n",
    "\n",
    "   \n",
    "A, B = init_hw_dotProduct(A, B)\n",
    "E, D = init_hw_updateDirection(E,D)\n",
    "\n",
    "print(f'start dotprod_{cu}')\n",
    "A.sync_to_device()\n",
    "B.sync_to_device()\n",
    "dotprod.call(A,B,C)   \n",
    "C.sync_from_device()\n",
    "print(f'end dotprod_{cu}')\n",
    "\n",
    "print(f'start update_{cu}')\n",
    "D.sync_to_device()\n",
    "E.sync_to_device()\n",
    "update.call(D,E,F)\n",
    "F.sync_from_device()\n",
    "print(f'end update_{cu}')\n",
    "\n"
   ]
  }
 ],
 "metadata": {
  "kernelspec": {
   "display_name": "Python 3",
   "language": "python",
   "name": "python3"
  },
  "language_info": {
   "codemirror_mode": {
    "name": "ipython",
    "version": 3
   },
   "file_extension": ".py",
   "mimetype": "text/x-python",
   "name": "python",
   "nbconvert_exporter": "python",
   "pygments_lexer": "ipython3",
   "version": "3.7.4"
  }
 },
 "nbformat": 4,
 "nbformat_minor": 4
}
